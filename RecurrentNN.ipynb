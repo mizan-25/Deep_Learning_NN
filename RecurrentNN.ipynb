{
  "nbformat": 4,
  "nbformat_minor": 0,
  "metadata": {
    "colab": {
      "provenance": [],
      "mount_file_id": "1Db9GNJjZ-eOLj1vZ8RXc179Y9Uf2S7Yx",
      "authorship_tag": "ABX9TyPqkBxdf4OEkGaXnFuRfjNh",
      "include_colab_link": true
    },
    "kernelspec": {
      "name": "python3",
      "display_name": "Python 3"
    },
    "language_info": {
      "name": "python"
    }
  },
  "cells": [
    {
      "cell_type": "markdown",
      "metadata": {
        "id": "view-in-github",
        "colab_type": "text"
      },
      "source": [
        "<a href=\"https://colab.research.google.com/github/mizan-25/Deep_Learning_NN/blob/main/RecurrentNN.ipynb\" target=\"_parent\"><img src=\"https://colab.research.google.com/assets/colab-badge.svg\" alt=\"Open In Colab\"/></a>"
      ]
    },
    {
      "cell_type": "markdown",
      "source": [],
      "metadata": {
        "id": "tJIlL7lajWBk"
      }
    },
    {
      "cell_type": "markdown",
      "source": [
        "#Implementing Recurrent Neural Network using python,Ker"
      ],
      "metadata": {
        "id": "P7PaQOpdjXb5"
      }
    },
    {
      "cell_type": "code",
      "execution_count": null,
      "metadata": {
        "id": "gPdBTleGVToD"
      },
      "outputs": [],
      "source": [
        "import numpy as np\n",
        "import pandas as pd\n",
        "import matplotlib.pyplot as plt"
      ]
    },
    {
      "cell_type": "code",
      "source": [
        "training_data = pd.read_csv('/content/drive/MyDrive/FB_training_data.csv')\n",
        "training_data.head(10)"
      ],
      "metadata": {
        "colab": {
          "base_uri": "https://localhost:8080/",
          "height": 363
        },
        "id": "YBgN5AMPVgkp",
        "outputId": "051c613a-a0d7-4047-f974-1f623ca2c914"
      },
      "execution_count": null,
      "outputs": [
        {
          "output_type": "execute_result",
          "data": {
            "text/plain": [
              "         Date       Open       High        Low      Close  Adj Close    Volume\n",
              "0  2015-01-02  78.580002  78.930000  77.699997  78.449997  78.449997  18177500\n",
              "1  2015-01-05  77.980003  79.250000  76.860001  77.190002  77.190002  26452200\n",
              "2  2015-01-06  77.230003  77.589996  75.360001  76.150002  76.150002  27399300\n",
              "3  2015-01-07  76.760002  77.360001  75.820000  76.150002  76.150002  22045300\n",
              "4  2015-01-08  76.739998  78.230003  76.080002  78.180000  78.180000  23961000\n",
              "5  2015-01-09  78.199997  78.620003  77.199997  77.739998  77.739998  21157000\n",
              "6  2015-01-12  77.839996  78.000000  76.209999  76.720001  76.720001  19190200\n",
              "7  2015-01-13  77.230003  78.080002  75.849998  76.449997  76.449997  25179600\n",
              "8  2015-01-14  76.419998  77.199997  76.029999  76.279999  76.279999  25918600\n",
              "9  2015-01-15  76.400002  76.570000  73.540001  74.050003  74.050003  34134000"
            ],
            "text/html": [
              "\n",
              "  <div id=\"df-be80eebd-b03e-429d-80c8-4be06dbb58a0\">\n",
              "    <div class=\"colab-df-container\">\n",
              "      <div>\n",
              "<style scoped>\n",
              "    .dataframe tbody tr th:only-of-type {\n",
              "        vertical-align: middle;\n",
              "    }\n",
              "\n",
              "    .dataframe tbody tr th {\n",
              "        vertical-align: top;\n",
              "    }\n",
              "\n",
              "    .dataframe thead th {\n",
              "        text-align: right;\n",
              "    }\n",
              "</style>\n",
              "<table border=\"1\" class=\"dataframe\">\n",
              "  <thead>\n",
              "    <tr style=\"text-align: right;\">\n",
              "      <th></th>\n",
              "      <th>Date</th>\n",
              "      <th>Open</th>\n",
              "      <th>High</th>\n",
              "      <th>Low</th>\n",
              "      <th>Close</th>\n",
              "      <th>Adj Close</th>\n",
              "      <th>Volume</th>\n",
              "    </tr>\n",
              "  </thead>\n",
              "  <tbody>\n",
              "    <tr>\n",
              "      <th>0</th>\n",
              "      <td>2015-01-02</td>\n",
              "      <td>78.580002</td>\n",
              "      <td>78.930000</td>\n",
              "      <td>77.699997</td>\n",
              "      <td>78.449997</td>\n",
              "      <td>78.449997</td>\n",
              "      <td>18177500</td>\n",
              "    </tr>\n",
              "    <tr>\n",
              "      <th>1</th>\n",
              "      <td>2015-01-05</td>\n",
              "      <td>77.980003</td>\n",
              "      <td>79.250000</td>\n",
              "      <td>76.860001</td>\n",
              "      <td>77.190002</td>\n",
              "      <td>77.190002</td>\n",
              "      <td>26452200</td>\n",
              "    </tr>\n",
              "    <tr>\n",
              "      <th>2</th>\n",
              "      <td>2015-01-06</td>\n",
              "      <td>77.230003</td>\n",
              "      <td>77.589996</td>\n",
              "      <td>75.360001</td>\n",
              "      <td>76.150002</td>\n",
              "      <td>76.150002</td>\n",
              "      <td>27399300</td>\n",
              "    </tr>\n",
              "    <tr>\n",
              "      <th>3</th>\n",
              "      <td>2015-01-07</td>\n",
              "      <td>76.760002</td>\n",
              "      <td>77.360001</td>\n",
              "      <td>75.820000</td>\n",
              "      <td>76.150002</td>\n",
              "      <td>76.150002</td>\n",
              "      <td>22045300</td>\n",
              "    </tr>\n",
              "    <tr>\n",
              "      <th>4</th>\n",
              "      <td>2015-01-08</td>\n",
              "      <td>76.739998</td>\n",
              "      <td>78.230003</td>\n",
              "      <td>76.080002</td>\n",
              "      <td>78.180000</td>\n",
              "      <td>78.180000</td>\n",
              "      <td>23961000</td>\n",
              "    </tr>\n",
              "    <tr>\n",
              "      <th>5</th>\n",
              "      <td>2015-01-09</td>\n",
              "      <td>78.199997</td>\n",
              "      <td>78.620003</td>\n",
              "      <td>77.199997</td>\n",
              "      <td>77.739998</td>\n",
              "      <td>77.739998</td>\n",
              "      <td>21157000</td>\n",
              "    </tr>\n",
              "    <tr>\n",
              "      <th>6</th>\n",
              "      <td>2015-01-12</td>\n",
              "      <td>77.839996</td>\n",
              "      <td>78.000000</td>\n",
              "      <td>76.209999</td>\n",
              "      <td>76.720001</td>\n",
              "      <td>76.720001</td>\n",
              "      <td>19190200</td>\n",
              "    </tr>\n",
              "    <tr>\n",
              "      <th>7</th>\n",
              "      <td>2015-01-13</td>\n",
              "      <td>77.230003</td>\n",
              "      <td>78.080002</td>\n",
              "      <td>75.849998</td>\n",
              "      <td>76.449997</td>\n",
              "      <td>76.449997</td>\n",
              "      <td>25179600</td>\n",
              "    </tr>\n",
              "    <tr>\n",
              "      <th>8</th>\n",
              "      <td>2015-01-14</td>\n",
              "      <td>76.419998</td>\n",
              "      <td>77.199997</td>\n",
              "      <td>76.029999</td>\n",
              "      <td>76.279999</td>\n",
              "      <td>76.279999</td>\n",
              "      <td>25918600</td>\n",
              "    </tr>\n",
              "    <tr>\n",
              "      <th>9</th>\n",
              "      <td>2015-01-15</td>\n",
              "      <td>76.400002</td>\n",
              "      <td>76.570000</td>\n",
              "      <td>73.540001</td>\n",
              "      <td>74.050003</td>\n",
              "      <td>74.050003</td>\n",
              "      <td>34134000</td>\n",
              "    </tr>\n",
              "  </tbody>\n",
              "</table>\n",
              "</div>\n",
              "      <button class=\"colab-df-convert\" onclick=\"convertToInteractive('df-be80eebd-b03e-429d-80c8-4be06dbb58a0')\"\n",
              "              title=\"Convert this dataframe to an interactive table.\"\n",
              "              style=\"display:none;\">\n",
              "        \n",
              "  <svg xmlns=\"http://www.w3.org/2000/svg\" height=\"24px\"viewBox=\"0 0 24 24\"\n",
              "       width=\"24px\">\n",
              "    <path d=\"M0 0h24v24H0V0z\" fill=\"none\"/>\n",
              "    <path d=\"M18.56 5.44l.94 2.06.94-2.06 2.06-.94-2.06-.94-.94-2.06-.94 2.06-2.06.94zm-11 1L8.5 8.5l.94-2.06 2.06-.94-2.06-.94L8.5 2.5l-.94 2.06-2.06.94zm10 10l.94 2.06.94-2.06 2.06-.94-2.06-.94-.94-2.06-.94 2.06-2.06.94z\"/><path d=\"M17.41 7.96l-1.37-1.37c-.4-.4-.92-.59-1.43-.59-.52 0-1.04.2-1.43.59L10.3 9.45l-7.72 7.72c-.78.78-.78 2.05 0 2.83L4 21.41c.39.39.9.59 1.41.59.51 0 1.02-.2 1.41-.59l7.78-7.78 2.81-2.81c.8-.78.8-2.07 0-2.86zM5.41 20L4 18.59l7.72-7.72 1.47 1.35L5.41 20z\"/>\n",
              "  </svg>\n",
              "      </button>\n",
              "      \n",
              "  <style>\n",
              "    .colab-df-container {\n",
              "      display:flex;\n",
              "      flex-wrap:wrap;\n",
              "      gap: 12px;\n",
              "    }\n",
              "\n",
              "    .colab-df-convert {\n",
              "      background-color: #E8F0FE;\n",
              "      border: none;\n",
              "      border-radius: 50%;\n",
              "      cursor: pointer;\n",
              "      display: none;\n",
              "      fill: #1967D2;\n",
              "      height: 32px;\n",
              "      padding: 0 0 0 0;\n",
              "      width: 32px;\n",
              "    }\n",
              "\n",
              "    .colab-df-convert:hover {\n",
              "      background-color: #E2EBFA;\n",
              "      box-shadow: 0px 1px 2px rgba(60, 64, 67, 0.3), 0px 1px 3px 1px rgba(60, 64, 67, 0.15);\n",
              "      fill: #174EA6;\n",
              "    }\n",
              "\n",
              "    [theme=dark] .colab-df-convert {\n",
              "      background-color: #3B4455;\n",
              "      fill: #D2E3FC;\n",
              "    }\n",
              "\n",
              "    [theme=dark] .colab-df-convert:hover {\n",
              "      background-color: #434B5C;\n",
              "      box-shadow: 0px 1px 3px 1px rgba(0, 0, 0, 0.15);\n",
              "      filter: drop-shadow(0px 1px 2px rgba(0, 0, 0, 0.3));\n",
              "      fill: #FFFFFF;\n",
              "    }\n",
              "  </style>\n",
              "\n",
              "      <script>\n",
              "        const buttonEl =\n",
              "          document.querySelector('#df-be80eebd-b03e-429d-80c8-4be06dbb58a0 button.colab-df-convert');\n",
              "        buttonEl.style.display =\n",
              "          google.colab.kernel.accessAllowed ? 'block' : 'none';\n",
              "\n",
              "        async function convertToInteractive(key) {\n",
              "          const element = document.querySelector('#df-be80eebd-b03e-429d-80c8-4be06dbb58a0');\n",
              "          const dataTable =\n",
              "            await google.colab.kernel.invokeFunction('convertToInteractive',\n",
              "                                                     [key], {});\n",
              "          if (!dataTable) return;\n",
              "\n",
              "          const docLinkHtml = 'Like what you see? Visit the ' +\n",
              "            '<a target=\"_blank\" href=https://colab.research.google.com/notebooks/data_table.ipynb>data table notebook</a>'\n",
              "            + ' to learn more about interactive tables.';\n",
              "          element.innerHTML = '';\n",
              "          dataTable['output_type'] = 'display_data';\n",
              "          await google.colab.output.renderOutput(dataTable, element);\n",
              "          const docLink = document.createElement('div');\n",
              "          docLink.innerHTML = docLinkHtml;\n",
              "          element.appendChild(docLink);\n",
              "        }\n",
              "      </script>\n",
              "    </div>\n",
              "  </div>\n",
              "  "
            ]
          },
          "metadata": {},
          "execution_count": 25
        }
      ]
    },
    {
      "cell_type": "code",
      "source": [
        "training_data = training_data.iloc[:, 1].values"
      ],
      "metadata": {
        "id": "XM_jLJz_Vn-f"
      },
      "execution_count": null,
      "outputs": []
    },
    {
      "cell_type": "code",
      "source": [
        "type(training_data)"
      ],
      "metadata": {
        "colab": {
          "base_uri": "https://localhost:8080/"
        },
        "id": "WjhE6QLCWZ3A",
        "outputId": "aba29d79-5121-42da-e6ce-cea56ff5c60a"
      },
      "execution_count": null,
      "outputs": [
        {
          "output_type": "execute_result",
          "data": {
            "text/plain": [
              "numpy.ndarray"
            ]
          },
          "metadata": {},
          "execution_count": 27
        }
      ]
    },
    {
      "cell_type": "code",
      "source": [
        "from sklearn.preprocessing import MinMaxScaler"
      ],
      "metadata": {
        "id": "YXRgWhjsWdi_"
      },
      "execution_count": null,
      "outputs": []
    },
    {
      "cell_type": "code",
      "source": [
        "scaler = MinMaxScaler()"
      ],
      "metadata": {
        "id": "FHB5kx_LWntP"
      },
      "execution_count": null,
      "outputs": []
    },
    {
      "cell_type": "code",
      "source": [
        "training_data = scaler.fit_transform(training_data.reshape(-1, 1))"
      ],
      "metadata": {
        "id": "jNPHhSU9WrLf"
      },
      "execution_count": null,
      "outputs": []
    },
    {
      "cell_type": "code",
      "source": [
        "x_training_data = []\n",
        "\n",
        "y_training_data =[]"
      ],
      "metadata": {
        "id": "I5x_paaeWu92"
      },
      "execution_count": null,
      "outputs": []
    },
    {
      "cell_type": "code",
      "source": [
        "for i in range(40, len(training_data)):\n",
        "\n",
        "    x_training_data.append(training_data[i-40:i, 0])\n",
        "\n",
        "    y_training_data.append(training_data[i, 0])"
      ],
      "metadata": {
        "id": "wS81OeCeWywn"
      },
      "execution_count": null,
      "outputs": []
    },
    {
      "cell_type": "code",
      "source": [
        "x_training_data = np.array(x_training_data)\n",
        "\n",
        "y_training_data = np.array(y_training_data)"
      ],
      "metadata": {
        "id": "EobVNeGeW1e3"
      },
      "execution_count": null,
      "outputs": []
    },
    {
      "cell_type": "code",
      "source": [
        "print(x_training_data.shape)\n",
        "\n",
        "print(y_training_data.shape)"
      ],
      "metadata": {
        "colab": {
          "base_uri": "https://localhost:8080/"
        },
        "id": "N-pYk_viW5xg",
        "outputId": "9762056c-32ff-473c-c79c-353d20835578"
      },
      "execution_count": null,
      "outputs": [
        {
          "output_type": "stream",
          "name": "stdout",
          "text": [
            "(1218, 40)\n",
            "(1218,)\n"
          ]
        }
      ]
    },
    {
      "cell_type": "code",
      "source": [
        "x_training_data = np.reshape(x_training_data, (x_training_data.shape[0], \n",
        "\n",
        "                                               x_training_data.shape[1], \n",
        "\n",
        "                                               1))"
      ],
      "metadata": {
        "id": "ERMdthSOW84P"
      },
      "execution_count": null,
      "outputs": []
    },
    {
      "cell_type": "code",
      "source": [
        "print(x_training_data.shape)"
      ],
      "metadata": {
        "colab": {
          "base_uri": "https://localhost:8080/"
        },
        "id": "-iEOAtAKXB_u",
        "outputId": "4f5a9b4f-20d1-4fca-e580-99fccd09e9d5"
      },
      "execution_count": null,
      "outputs": [
        {
          "output_type": "stream",
          "name": "stdout",
          "text": [
            "(1218, 40, 1)\n"
          ]
        }
      ]
    },
    {
      "cell_type": "code",
      "source": [
        "from tensorflow.keras.models import Sequential\n",
        "\n",
        "from tensorflow.keras.layers import Dense\n",
        "\n",
        "from tensorflow.keras.layers import LSTM\n",
        "\n",
        "from tensorflow.keras.layers import Dropout"
      ],
      "metadata": {
        "id": "WxP-h-cOXEwH"
      },
      "execution_count": null,
      "outputs": []
    },
    {
      "cell_type": "code",
      "source": [
        "rnn = Sequential()"
      ],
      "metadata": {
        "id": "3AHvBv45XJIt"
      },
      "execution_count": null,
      "outputs": []
    },
    {
      "cell_type": "code",
      "source": [
        "rnn.add(LSTM(units = 45, return_sequences = True, input_shape = (x_training_data.shape[1], 1)))"
      ],
      "metadata": {
        "id": "Lhn17araXOfW"
      },
      "execution_count": null,
      "outputs": []
    },
    {
      "cell_type": "code",
      "source": [
        "rnn.add(Dropout(0.2))"
      ],
      "metadata": {
        "id": "AbipnzzJXSeW"
      },
      "execution_count": null,
      "outputs": []
    },
    {
      "cell_type": "code",
      "source": [
        "rnn.add(LSTM(units = 45, return_sequences = True))\n",
        "\n",
        "rnn.add(Dropout(0.2))\n",
        "\n",
        "rnn.add(LSTM(units = 45, return_sequences = True))\n",
        "\n",
        "rnn.add(Dropout(0.2))\n",
        "\n",
        "rnn.add(LSTM(units = 45))\n",
        "\n",
        "rnn.add(Dropout(0.2))"
      ],
      "metadata": {
        "id": "u1iWIE8WXXHv"
      },
      "execution_count": null,
      "outputs": []
    },
    {
      "cell_type": "code",
      "source": [
        "rnn.add(Dense(units = 1))"
      ],
      "metadata": {
        "id": "cby42ScPXoiH"
      },
      "execution_count": null,
      "outputs": []
    },
    {
      "cell_type": "code",
      "source": [
        "rnn.compile(optimizer = 'adam', loss = 'mean_squared_error')"
      ],
      "metadata": {
        "id": "t9IoCXwdaCyu"
      },
      "execution_count": null,
      "outputs": []
    },
    {
      "cell_type": "code",
      "source": [
        "rnn.fit(x_training_data, y_training_data, epochs = 100, batch_size = 32)"
      ],
      "metadata": {
        "colab": {
          "base_uri": "https://localhost:8080/"
        },
        "id": "KyTySRCraFxW",
        "outputId": "94ae1e5f-9f48-4ae7-a3f9-fdfc6672464d"
      },
      "execution_count": null,
      "outputs": [
        {
          "output_type": "stream",
          "name": "stdout",
          "text": [
            "Epoch 1/100\n",
            "39/39 [==============================] - 15s 95ms/step - loss: 0.0454\n",
            "Epoch 2/100\n",
            "39/39 [==============================] - 4s 98ms/step - loss: 0.0066\n",
            "Epoch 3/100\n",
            "39/39 [==============================] - 5s 137ms/step - loss: 0.0066\n",
            "Epoch 4/100\n",
            "39/39 [==============================] - 4s 106ms/step - loss: 0.0062\n",
            "Epoch 5/100\n",
            "39/39 [==============================] - 4s 99ms/step - loss: 0.0062\n",
            "Epoch 6/100\n",
            "39/39 [==============================] - 4s 109ms/step - loss: 0.0061\n",
            "Epoch 7/100\n",
            "39/39 [==============================] - 5s 131ms/step - loss: 0.0060\n",
            "Epoch 8/100\n",
            "39/39 [==============================] - 4s 95ms/step - loss: 0.0055\n",
            "Epoch 9/100\n",
            "39/39 [==============================] - 4s 96ms/step - loss: 0.0058\n",
            "Epoch 10/100\n",
            "39/39 [==============================] - 6s 144ms/step - loss: 0.0049\n",
            "Epoch 11/100\n",
            "39/39 [==============================] - 4s 113ms/step - loss: 0.0050\n",
            "Epoch 12/100\n",
            "39/39 [==============================] - 4s 96ms/step - loss: 0.0051\n",
            "Epoch 13/100\n",
            "39/39 [==============================] - 5s 129ms/step - loss: 0.0048\n",
            "Epoch 14/100\n",
            "39/39 [==============================] - 5s 114ms/step - loss: 0.0044\n",
            "Epoch 15/100\n",
            "39/39 [==============================] - 4s 98ms/step - loss: 0.0053\n",
            "Epoch 16/100\n",
            "39/39 [==============================] - 4s 107ms/step - loss: 0.0043\n",
            "Epoch 17/100\n",
            "39/39 [==============================] - 5s 136ms/step - loss: 0.0041\n",
            "Epoch 18/100\n",
            "39/39 [==============================] - 4s 96ms/step - loss: 0.0044\n",
            "Epoch 19/100\n",
            "39/39 [==============================] - 4s 95ms/step - loss: 0.0041\n",
            "Epoch 20/100\n",
            "39/39 [==============================] - 5s 137ms/step - loss: 0.0040\n",
            "Epoch 21/100\n",
            "39/39 [==============================] - 4s 101ms/step - loss: 0.0040\n",
            "Epoch 22/100\n",
            "39/39 [==============================] - 4s 95ms/step - loss: 0.0043\n",
            "Epoch 23/100\n",
            "39/39 [==============================] - 4s 113ms/step - loss: 0.0046\n",
            "Epoch 24/100\n",
            "39/39 [==============================] - 5s 131ms/step - loss: 0.0041\n",
            "Epoch 25/100\n",
            "39/39 [==============================] - 4s 96ms/step - loss: 0.0035\n",
            "Epoch 26/100\n",
            "39/39 [==============================] - 4s 95ms/step - loss: 0.0032\n",
            "Epoch 27/100\n",
            "39/39 [==============================] - 6s 147ms/step - loss: 0.0038\n",
            "Epoch 28/100\n",
            "39/39 [==============================] - 4s 94ms/step - loss: 0.0038\n",
            "Epoch 29/100\n",
            "39/39 [==============================] - 4s 93ms/step - loss: 0.0036\n",
            "Epoch 30/100\n",
            "39/39 [==============================] - 4s 110ms/step - loss: 0.0036\n",
            "Epoch 31/100\n",
            "39/39 [==============================] - 5s 124ms/step - loss: 0.0037\n",
            "Epoch 32/100\n",
            "39/39 [==============================] - 4s 95ms/step - loss: 0.0036\n",
            "Epoch 33/100\n",
            "39/39 [==============================] - 4s 94ms/step - loss: 0.0043\n",
            "Epoch 34/100\n",
            "39/39 [==============================] - 6s 144ms/step - loss: 0.0036\n",
            "Epoch 35/100\n",
            "39/39 [==============================] - 4s 97ms/step - loss: 0.0032\n",
            "Epoch 36/100\n",
            "39/39 [==============================] - 4s 96ms/step - loss: 0.0037\n",
            "Epoch 37/100\n",
            "39/39 [==============================] - 5s 120ms/step - loss: 0.0034\n",
            "Epoch 38/100\n",
            "39/39 [==============================] - 5s 121ms/step - loss: 0.0030\n",
            "Epoch 39/100\n",
            "39/39 [==============================] - 4s 96ms/step - loss: 0.0037\n",
            "Epoch 40/100\n",
            "39/39 [==============================] - 4s 95ms/step - loss: 0.0029\n",
            "Epoch 41/100\n",
            "39/39 [==============================] - 6s 147ms/step - loss: 0.0031\n",
            "Epoch 42/100\n",
            "39/39 [==============================] - 4s 95ms/step - loss: 0.0033\n",
            "Epoch 43/100\n",
            "39/39 [==============================] - 4s 93ms/step - loss: 0.0026\n",
            "Epoch 44/100\n",
            "39/39 [==============================] - 5s 120ms/step - loss: 0.0024\n",
            "Epoch 45/100\n",
            "39/39 [==============================] - 5s 120ms/step - loss: 0.0030\n",
            "Epoch 46/100\n",
            "39/39 [==============================] - 4s 96ms/step - loss: 0.0029\n",
            "Epoch 47/100\n",
            "39/39 [==============================] - 4s 93ms/step - loss: 0.0041\n",
            "Epoch 48/100\n",
            "39/39 [==============================] - 6s 147ms/step - loss: 0.0026\n",
            "Epoch 49/100\n",
            "39/39 [==============================] - 4s 95ms/step - loss: 0.0026\n",
            "Epoch 50/100\n",
            "39/39 [==============================] - 4s 95ms/step - loss: 0.0026\n",
            "Epoch 51/100\n",
            "39/39 [==============================] - 5s 127ms/step - loss: 0.0029\n",
            "Epoch 52/100\n",
            "39/39 [==============================] - 5s 114ms/step - loss: 0.0023\n",
            "Epoch 53/100\n",
            "39/39 [==============================] - 4s 97ms/step - loss: 0.0025\n",
            "Epoch 54/100\n",
            "39/39 [==============================] - 4s 96ms/step - loss: 0.0025\n",
            "Epoch 55/100\n",
            "39/39 [==============================] - 6s 143ms/step - loss: 0.0026\n",
            "Epoch 56/100\n",
            "39/39 [==============================] - 4s 96ms/step - loss: 0.0024\n",
            "Epoch 57/100\n",
            "39/39 [==============================] - 4s 98ms/step - loss: 0.0022\n",
            "Epoch 58/100\n",
            "39/39 [==============================] - 5s 131ms/step - loss: 0.0023\n",
            "Epoch 59/100\n",
            "39/39 [==============================] - 4s 104ms/step - loss: 0.0024\n",
            "Epoch 60/100\n",
            "39/39 [==============================] - 4s 95ms/step - loss: 0.0024\n",
            "Epoch 61/100\n",
            "39/39 [==============================] - 4s 99ms/step - loss: 0.0022\n",
            "Epoch 62/100\n",
            "39/39 [==============================] - 5s 139ms/step - loss: 0.0025\n",
            "Epoch 63/100\n",
            "39/39 [==============================] - 4s 95ms/step - loss: 0.0021\n",
            "Epoch 64/100\n",
            "39/39 [==============================] - 4s 95ms/step - loss: 0.0022\n",
            "Epoch 65/100\n",
            "39/39 [==============================] - 5s 138ms/step - loss: 0.0022\n",
            "Epoch 66/100\n",
            "39/39 [==============================] - 4s 102ms/step - loss: 0.0022\n",
            "Epoch 67/100\n",
            "39/39 [==============================] - 4s 94ms/step - loss: 0.0022\n",
            "Epoch 68/100\n",
            "39/39 [==============================] - 4s 99ms/step - loss: 0.0019\n",
            "Epoch 69/100\n",
            "39/39 [==============================] - 5s 137ms/step - loss: 0.0023\n",
            "Epoch 70/100\n",
            "39/39 [==============================] - 4s 97ms/step - loss: 0.0022\n",
            "Epoch 71/100\n",
            "39/39 [==============================] - 4s 95ms/step - loss: 0.0024\n",
            "Epoch 72/100\n",
            "39/39 [==============================] - 5s 138ms/step - loss: 0.0019\n",
            "Epoch 73/100\n",
            "39/39 [==============================] - 4s 101ms/step - loss: 0.0019\n",
            "Epoch 74/100\n",
            "39/39 [==============================] - 4s 95ms/step - loss: 0.0019\n",
            "Epoch 75/100\n",
            "39/39 [==============================] - 4s 105ms/step - loss: 0.0021\n",
            "Epoch 76/100\n",
            "39/39 [==============================] - 5s 133ms/step - loss: 0.0020\n",
            "Epoch 77/100\n",
            "39/39 [==============================] - 4s 93ms/step - loss: 0.0018\n",
            "Epoch 78/100\n",
            "39/39 [==============================] - 4s 96ms/step - loss: 0.0019\n",
            "Epoch 79/100\n",
            "39/39 [==============================] - 5s 135ms/step - loss: 0.0018\n",
            "Epoch 80/100\n",
            "39/39 [==============================] - 4s 99ms/step - loss: 0.0019\n",
            "Epoch 81/100\n",
            "39/39 [==============================] - 4s 94ms/step - loss: 0.0019\n",
            "Epoch 82/100\n",
            "39/39 [==============================] - 4s 102ms/step - loss: 0.0018\n",
            "Epoch 83/100\n",
            "39/39 [==============================] - 5s 135ms/step - loss: 0.0018\n",
            "Epoch 84/100\n",
            "39/39 [==============================] - 4s 96ms/step - loss: 0.0020\n",
            "Epoch 85/100\n",
            "39/39 [==============================] - 4s 94ms/step - loss: 0.0017\n",
            "Epoch 86/100\n",
            "39/39 [==============================] - 5s 139ms/step - loss: 0.0019\n",
            "Epoch 87/100\n",
            "39/39 [==============================] - 4s 100ms/step - loss: 0.0016\n",
            "Epoch 88/100\n",
            "39/39 [==============================] - 4s 97ms/step - loss: 0.0021\n",
            "Epoch 89/100\n",
            "39/39 [==============================] - 4s 108ms/step - loss: 0.0020\n",
            "Epoch 90/100\n",
            "39/39 [==============================] - 8s 202ms/step - loss: 0.0019\n",
            "Epoch 91/100\n",
            "39/39 [==============================] - 5s 136ms/step - loss: 0.0017\n",
            "Epoch 92/100\n",
            "39/39 [==============================] - 6s 148ms/step - loss: 0.0017\n",
            "Epoch 93/100\n",
            "39/39 [==============================] - 4s 102ms/step - loss: 0.0015\n",
            "Epoch 94/100\n",
            "39/39 [==============================] - 4s 95ms/step - loss: 0.0019\n",
            "Epoch 95/100\n",
            "39/39 [==============================] - 5s 120ms/step - loss: 0.0017\n",
            "Epoch 96/100\n",
            "39/39 [==============================] - 5s 118ms/step - loss: 0.0017\n",
            "Epoch 97/100\n",
            "39/39 [==============================] - 4s 96ms/step - loss: 0.0016\n",
            "Epoch 98/100\n",
            "39/39 [==============================] - 4s 95ms/step - loss: 0.0017\n",
            "Epoch 99/100\n",
            "39/39 [==============================] - 6s 148ms/step - loss: 0.0017\n",
            "Epoch 100/100\n",
            "39/39 [==============================] - 4s 96ms/step - loss: 0.0017\n"
          ]
        },
        {
          "output_type": "execute_result",
          "data": {
            "text/plain": [
              "<keras.callbacks.History at 0x7f45a81d7490>"
            ]
          },
          "metadata": {},
          "execution_count": 51
        }
      ]
    },
    {
      "cell_type": "code",
      "source": [
        "test_data = pd.read_csv('/content/drive/MyDrive/FB_test_data.csv')\n",
        "\n",
        "test_data = test_data.iloc[:, 1].values"
      ],
      "metadata": {
        "id": "Pt9sJzTSff3R"
      },
      "execution_count": null,
      "outputs": []
    },
    {
      "cell_type": "code",
      "source": [
        "print(test_data.shape)"
      ],
      "metadata": {
        "colab": {
          "base_uri": "https://localhost:8080/"
        },
        "id": "dMyLFKeGhPer",
        "outputId": "75a9f5c7-379f-48e7-9665-20a361c2e16f"
      },
      "execution_count": null,
      "outputs": [
        {
          "output_type": "stream",
          "name": "stdout",
          "text": [
            "(21,)\n"
          ]
        }
      ]
    },
    {
      "cell_type": "code",
      "source": [
        "plt.plot(test_data)"
      ],
      "metadata": {
        "colab": {
          "base_uri": "https://localhost:8080/",
          "height": 447
        },
        "id": "o_Jh7yIFhT8K",
        "outputId": "93346c0b-176d-4215-f165-e1781649f296"
      },
      "execution_count": null,
      "outputs": [
        {
          "output_type": "execute_result",
          "data": {
            "text/plain": [
              "[<matplotlib.lines.Line2D at 0x7f45a8b42a70>]"
            ]
          },
          "metadata": {},
          "execution_count": 54
        },
        {
          "output_type": "display_data",
          "data": {
            "text/plain": [
              "<Figure size 640x480 with 1 Axes>"
            ],
            "image/png": "[encoded data removed]"
          },
          "metadata": {}
        }
      ]
    },
    {
      "cell_type": "code",
      "source": [
        "unscaled_training_data = pd.read_csv('/content/drive/MyDrive/FB_training_data.csv')\n",
        "\n",
        "unscaled_test_data = pd.read_csv('/content/drive/MyDrive/FB_test_data.csv')"
      ],
      "metadata": {
        "id": "vaJiUOZXhXY6"
      },
      "execution_count": null,
      "outputs": []
    },
    {
      "cell_type": "code",
      "source": [
        "all_data = pd.concat((unscaled_training_data['Open'], unscaled_test_data['Open']), axis = 0)"
      ],
      "metadata": {
        "id": "iNQy8-IwhmAa"
      },
      "execution_count": null,
      "outputs": []
    },
    {
      "cell_type": "code",
      "source": [
        "x_test_data = all_data[len(all_data) - len(test_data) - 40:].values"
      ],
      "metadata": {
        "id": "Y7ku1bY1hpr5"
      },
      "execution_count": null,
      "outputs": []
    },
    {
      "cell_type": "code",
      "source": [
        "x_test_data = np.reshape(x_test_data, (-1, 1))"
      ],
      "metadata": {
        "id": "VOkqjKHdhy5a"
      },
      "execution_count": null,
      "outputs": []
    },
    {
      "cell_type": "markdown",
      "source": [
        "#Scaling Our Test Data"
      ],
      "metadata": {
        "id": "6cJv6Dkxh7GZ"
      }
    },
    {
      "cell_type": "code",
      "source": [
        "x_test_data = scaler.transform(x_test_data)"
      ],
      "metadata": {
        "id": "puFQmzPRh2hC"
      },
      "execution_count": null,
      "outputs": []
    },
    {
      "cell_type": "code",
      "source": [
        "final_x_test_data = []\n",
        "\n",
        "for i in range(40, len(x_test_data)):\n",
        "\n",
        "    final_x_test_data.append(x_test_data[i-40:i, 0])\n",
        "\n",
        "final_x_test_data = np.array(final_x_test_data)"
      ],
      "metadata": {
        "id": "eEqhvzOsh6Rq"
      },
      "execution_count": null,
      "outputs": []
    },
    {
      "cell_type": "code",
      "source": [
        "final_x_test_data = np.reshape(final_x_test_data, (final_x_test_data.shape[0], \n",
        "                                                   final_x_test_data.shape[1], 1))"
      ],
      "metadata": {
        "id": "Q0NZESo2iBaJ"
      },
      "execution_count": null,
      "outputs": []
    },
    {
      "cell_type": "code",
      "source": [
        "predictions = rnn.predict(final_x_test_data)"
      ],
      "metadata": {
        "colab": {
          "base_uri": "https://localhost:8080/"
        },
        "id": "KlpyW6mMiLhq",
        "outputId": "31d7c933-1ab5-459c-a82a-9b6b6e476950"
      },
      "execution_count": null,
      "outputs": [
        {
          "output_type": "stream",
          "name": "stdout",
          "text": [
            "1/1 [==============================] - 2s 2s/step\n"
          ]
        }
      ]
    },
    {
      "cell_type": "code",
      "source": [
        "plt.clf()\n",
        "plt.plot(predictions)"
      ],
      "metadata": {
        "colab": {
          "base_uri": "https://localhost:8080/",
          "height": 447
        },
        "id": "P3HimDwNiRua",
        "outputId": "34d152c3-d31f-4ec1-8593-31c66d4a7ac4"
      },
      "execution_count": null,
      "outputs": [
        {
          "output_type": "execute_result",
          "data": {
            "text/plain": [
              "[<matplotlib.lines.Line2D at 0x7f45a8802e90>]"
            ]
          },
          "metadata": {},
          "execution_count": 66
        },
        {
          "output_type": "display_data",
          "data": {
            "text/plain": [
              "<Figure size 640x480 with 1 Axes>"
            ],
            "image/png": "[encoded data removed]"
          },
          "metadata": {}
        }
      ]
    },
    {
      "cell_type": "code",
      "source": [
        "unscaled_predictions = scaler.inverse_transform(predictions)\n",
        "\n",
        "plt.clf() #This clears the first prediction plot from our canvas\n",
        "\n",
        "plt.plot(unscaled_predictions)"
      ],
      "metadata": {
        "colab": {
          "base_uri": "https://localhost:8080/",
          "height": 447
        },
        "id": "zR64X31biXnC",
        "outputId": "429054a4-4b28-4575-b060-ff60f3caca3e"
      },
      "execution_count": null,
      "outputs": [
        {
          "output_type": "execute_result",
          "data": {
            "text/plain": [
              "[<matplotlib.lines.Line2D at 0x7f45a8695720>]"
            ]
          },
          "metadata": {},
          "execution_count": 67
        },
        {
          "output_type": "display_data",
          "data": {
            "text/plain": [
              "<Figure size 640x480 with 1 Axes>"
            ],
            "image/png": "[encoded data removed]"
          },
          "metadata": {}
        }
      ]
    },
    {
      "cell_type": "code",
      "source": [
        "plt.plot(unscaled_predictions, color = '#135485', label = \"Predictions\")\n",
        "\n",
        "plt.plot(test_data, color = 'black', label = \"Real Data\")\n",
        "\n",
        "plt.title('Facebook Stock Price Predictions')"
      ],
      "metadata": {
        "colab": {
          "base_uri": "https://localhost:8080/",
          "height": 469
        },
        "id": "XEbSfnovikpX",
        "outputId": "b3755d27-674e-4848-af25-6b4fb3e2c223"
      },
      "execution_count": null,
      "outputs": [
        {
          "output_type": "execute_result",
          "data": {
            "text/plain": [
              "Text(0.5, 1.0, 'Facebook Stock Price Predictions')"
            ]
          },
          "metadata": {},
          "execution_count": 68
        },
        {
          "output_type": "display_data",
          "data": {
            "text/plain": [
              "<Figure size 640x480 with 1 Axes>"
            ],
            "image/png": "[encoded data removed]"
          },
          "metadata": {}
        }
      ]
    },
    {
      "cell_type": "code",
      "source": [],
      "metadata": {
        "id": "2GmDLg2MirPA"
      },
      "execution_count": null,
      "outputs": []
    }
  ]
}